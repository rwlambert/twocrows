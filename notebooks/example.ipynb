{
 "cells": [
  {
   "cell_type": "markdown",
   "id": "d90c87dd-0e32-495f-86de-ecdde8505aa6",
   "metadata": {},
   "source": [
    "# Two Crows example notebook"
   ]
  },
  {
   "cell_type": "markdown",
   "id": "30661e3d-c998-4147-a48a-eba6c7f1ab95",
   "metadata": {},
   "source": [
    "Use this simple notebook to get started, keeping a notebook around will let you keep a lexicon, and translate backwards and forwards."
   ]
  },
  {
   "cell_type": "markdown",
   "id": "ef4a8d56-2a85-4a67-b2a9-410cfe0e6321",
   "metadata": {},
   "source": [
    "## Initial setup"
   ]
  },
  {
   "cell_type": "code",
   "execution_count": 16,
   "id": "4067bbba-2d20-4123-b82e-3986c36d8105",
   "metadata": {},
   "outputs": [],
   "source": [
    "#go to the right place to be able to do the import\n",
    "import os\n",
    "os.chdir(os.environ[\"HOME\"])"
   ]
  },
  {
   "cell_type": "code",
   "execution_count": 17,
   "id": "280db619-4698-4973-8a7a-717e30680368",
   "metadata": {},
   "outputs": [],
   "source": [
    "from twocrows import twocrows as tc\n",
    "mytc = tc()"
   ]
  },
  {
   "cell_type": "markdown",
   "id": "eb7cc1d6-eb2f-437b-8937-ca986a0f1fbb",
   "metadata": {},
   "source": [
    "## Create your lexicon"
   ]
  },
  {
   "cell_type": "code",
   "execution_count": 43,
   "id": "937c4420-09f1-4f5d-a893-d9e0cbc5049f",
   "metadata": {},
   "outputs": [],
   "source": [
    "mytc.learn(\"Darmok an Jalad at Tanagra\",\"be quiet\")\n",
    "mytc.learn(\"Buffy and the gentlemen\",\"be quiet\")\n",
    "mytc.learn(\"Temba his arms wide open\",\"thank you\")\n",
    "mytc.learn(\"The river Tamark in winter\",\"frozen?\")\n",
    "mytc.learn(\"Jon Snow beyond the Wall\",\"you know nothing\")\n",
    "mytc.learn(\"Bebop and Rock Steady, their eyes clouded\",\"confused\")\n",
    "mytc.learn(\"George Taylor and Caesar in the future\",\"apes\")\n",
    "mytc.learn(\"Alfred Hitchcock, his greatest fear\",\"BIRDS\")\n",
    "mytc.learn(\"A cat, even on its last life\",\"curious\")\n",
    "mytc.learn(\"HG Wells, his discovery\",\"time machine/time travel\")\n",
    "mytc.learn(\"The nine at Rivendell\",\"fellowship\")\n",
    "mytc.learn(\"The nine at Rivendell and Arwen\",\"I wanna be one of you\")\n",
    "mytc.learn(\"Quoth the raven\",\"nevermore\")\n",
    "mytc.learn(\"A young penguin as he dances\",\"happy\")\n",
    "mytc.learn(\"Anakin on completing his transformation\",\"no\")\n",
    "mytc.learn(\"Rico's Roughnecks and the Arachnids at Clendathoo\",\"fighting\")\n",
    "mytc.learn(\"Neo with the white rabbit\",\"follow\")\n",
    "mytc.learn(\"Matt Murdoch after the accident\",\"blind\")\n",
    "mytc.learn(\"Dr Pamela Eisley, her friends\",\"plants\")\n",
    "mytc.learn(\"Arthur Currie, his friends\",\"fish\")\n",
    "mytc.learn(\"John Hammond his greatest folly\",\"dinosaurs\")\n",
    "mytc.learn(\"Woody and Buzz, at Andy's house\",\"friends\")\n",
    "mytc.learn(\"The beast at Tanagra\",\"invisible monster\")\n",
    "mytc.learn(\"Mowgli his childhood home\",\"jungle\")\n",
    "mytc.learn(\"What about Tiffany's\",\"breakfast\")\n",
    "mytc.learn(\"Dory and Marlin as they leave the reef\",\"setting out on a journey\")\n",
    "mytc.learn(\"Run DMC and Aerosmith\",\"Walk this way\")\n",
    "mytc.learn(\"Banks and Donelly with the 12\",\"learning (a language)\")\n",
    "mytc.learn(\"The Doctor\",\"the young crow who likes us.\")\n",
    "mytc.learn(\"A partridge in a pear tree\",\"One\")\n",
    "mytc.learn(\"Frank Ifield, his statement\",\"I remember you\")\n",
    "mytc.learn(\"Luke and Yoda at Degobah\",\"learning\")\n",
    "mytc.learn(\"Elijah Wood\",\"North\")\n",
    "mytc.learn(\"Benton Frasier, searching for his honour\",\"South\")\n",
    "mytc.learn(\"The Pet Shop Boys, Their instruction\", \"go west\")\n",
    "mytc.learn(\"the elves, their destination\", \"into the west\")\n",
    "mytc.learn(\"Ellie Dixson\", \"East\")"
   ]
  },
  {
   "cell_type": "markdown",
   "id": "42ae976d-e916-4f01-88be-e54b0ca9b211",
   "metadata": {},
   "source": [
    "## Translating One Way"
   ]
  },
  {
   "cell_type": "code",
   "execution_count": 44,
   "id": "30af9852-b1cd-49ac-8d2a-af1214ef911b",
   "metadata": {},
   "outputs": [
    {
     "data": {
      "text/plain": [
       "['one', 'the young crow who likes us', 'follow', 'fellowship', 'curious']"
      ]
     },
     "execution_count": 44,
     "metadata": {},
     "output_type": "execute_result"
    }
   ],
   "source": [
    "mytc.translate(\"a partridge in a pear tree, the doctor, neo with the white rabbit, the nine at rivendell. A cat, even on it's last life.\")"
   ]
  },
  {
   "cell_type": "markdown",
   "id": "c5d1c642-c25c-430f-99e1-b3d113ef137a",
   "metadata": {},
   "source": [
    "## Translating Back"
   ]
  },
  {
   "cell_type": "code",
   "execution_count": 45,
   "id": "04c32647-5611-4d5b-9b3f-859770ebe964",
   "metadata": {},
   "outputs": [
    {
     "data": {
      "text/plain": [
       "['dr pamela eisley her friends',\n",
       " 'for',\n",
       " 'what about tiffanys',\n",
       " 'temba his arms wide open']"
      ]
     },
     "execution_count": 45,
     "metadata": {},
     "output_type": "execute_result"
    }
   ],
   "source": [
    "mytc.translate_r(\"plants for breakfast, thank you\")"
   ]
  },
  {
   "cell_type": "code",
   "execution_count": 46,
   "id": "03e9f1e7-5cca-49e9-85b4-c8fd0ed1befb",
   "metadata": {},
   "outputs": [
    {
     "data": {
      "text/plain": [
       "['the pet shop boys their instruction', 'temba his arms wide open']"
      ]
     },
     "execution_count": 46,
     "metadata": {},
     "output_type": "execute_result"
    }
   ],
   "source": [
    "mytc.translate_r(\"go west, thank you\")"
   ]
  },
  {
   "cell_type": "code",
   "execution_count": 47,
   "id": "e58eeaac-f007-45d7-b475-4c13265810f7",
   "metadata": {},
   "outputs": [
    {
     "data": {
      "text/plain": [
       "['im',\n",
       " 'a young penguin as he dances',\n",
       " 'about all the',\n",
       " 'arthur currie his friends']"
      ]
     },
     "execution_count": 47,
     "metadata": {},
     "output_type": "execute_result"
    }
   ],
   "source": [
    "mytc.translate_r(\"I'm happy about all the fish\")"
   ]
  },
  {
   "cell_type": "code",
   "execution_count": null,
   "id": "27ae2c49-ca12-4d1c-a49f-3b06c0d59ce5",
   "metadata": {},
   "outputs": [],
   "source": []
  }
 ],
 "metadata": {
  "kernelspec": {
   "display_name": "Python 3 (ipykernel)",
   "language": "python",
   "name": "python3"
  },
  "language_info": {
   "codemirror_mode": {
    "name": "ipython",
    "version": 3
   },
   "file_extension": ".py",
   "mimetype": "text/x-python",
   "name": "python",
   "nbconvert_exporter": "python",
   "pygments_lexer": "ipython3",
   "version": "3.7.10"
  }
 },
 "nbformat": 4,
 "nbformat_minor": 5
}
